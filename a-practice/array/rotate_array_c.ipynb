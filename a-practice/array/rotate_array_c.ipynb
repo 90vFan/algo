{
 "cells": [
  {
   "cell_type": "code",
   "execution_count": 28,
   "metadata": {},
   "outputs": [
    {
     "name": "stdout",
     "output_type": "stream",
     "text": [
      "5 6 7 1 2 3 4 \n",
      "3 99 -1 -100 \n",
      "2 1 \n"
     ]
    }
   ],
   "source": [
    "#include <stdio.h>\n",
    "\n",
    "void rotate(int* nums, int numsSize, int k) {\n",
    "    int i, j;\n",
    "    for (i = 0; i < k; i++) {\n",
    "        int tmp = nums[numsSize-1];\n",
    "        for (j = 0; j < numsSize; j++) {\n",
    "            int current = nums[j];\n",
    "            nums[j] = tmp;\n",
    "            tmp = current;\n",
    "        }\n",
    "    }\n",
    "    for (j = 0; j < numsSize; j++) {\n",
    "        printf(\"%d \", nums[j]);\n",
    "    }\n",
    "    printf(\"\\n\");\n",
    "}\n",
    "\n",
    "int main() {\n",
    "    int nums[7] = {1,2,3,4,5,6,7};\n",
    "    int numsSize = sizeof(nums) / sizeof(nums[0]);\n",
    "    int k = 3;\n",
    "    rotate(nums, numsSize, k);\n",
    "    \n",
    "    int nums1[4] = {-1,-100,3,99};\n",
    "    rotate(nums1, 4, 2);\n",
    "    \n",
    "    int nums2[2] = {1, 2};\n",
    "    rotate(nums2, 2, 3);\n",
    "}"
   ]
  },
  {
   "cell_type": "code",
   "execution_count": 45,
   "metadata": {},
   "outputs": [
    {
     "name": "stdout",
     "output_type": "stream",
     "text": [
      "5 6 1 2 3 4 7 \n",
      "3 -1 -100 99 \n",
      "1 2 \n"
     ]
    }
   ],
   "source": [
    "#include <stdio.h>\n",
    "void reverse();\n",
    "\n",
    "void rotate(int* nums, int numsSize, int k) {\n",
    "    k %= numsSize;\n",
    "    reverse(nums, 0, numsSize - 1);\n",
    "    reverse(nums, 0, k - 1);\n",
    "    reverse(nums, k - 1, numsSize - 1);\n",
    "    \n",
    "    for (int j = 0; j < numsSize; j++) {\n",
    "        printf(\"%d \", nums[j]);\n",
    "    }\n",
    "    printf(\"\\n\");\n",
    "}\n",
    "\n",
    "void reverse(int* nums, int start, int end) {\n",
    "    while (start < end) {\n",
    "        int temp = nums[start];\n",
    "        nums[start] = nums[end];\n",
    "        nums[end] = temp;\n",
    "        start++;\n",
    "        end--;\n",
    "    }\n",
    "}\n",
    "\n",
    "\n",
    "int main() {\n",
    "    int nums[7] = {1,2,3,4,5,6,7};\n",
    "    int numsSize = sizeof(nums) / sizeof(nums[0]);\n",
    "    int k = 3;\n",
    "    rotate(nums, numsSize, k);\n",
    "    \n",
    "    int nums1[4] = {-1,-100,3,99};\n",
    "    rotate(nums1, 4, 2);\n",
    "    \n",
    "    int nums2[2] = {1, 2};\n",
    "    rotate(nums2, 2, 3);\n",
    "}"
   ]
  },
  {
   "attachments": {
    "image.png": {
     "image/png": "[encoded data removed]"
    }
   },
   "cell_type": "markdown",
   "metadata": {},
   "source": [
    "![image.png](attachment:image.png)"
   ]
  },
  {
   "cell_type": "code",
   "execution_count": 55,
   "metadata": {},
   "outputs": [
    {
     "name": "stdout",
     "output_type": "stream",
     "text": [
      "5 6 7 1 2 3 4 \n",
      "3 99 -1 -100 \n",
      "2 1 \n",
      "5 6 1 2 3 4 \n"
     ]
    }
   ],
   "source": [
    "#include <stdio.h>\n",
    "\n",
    "void rotate(int* nums, int numsSize, int k){\n",
    "    k %= numsSize;\n",
    "    int count = 0;\n",
    "    int temp, next, current, prev;\n",
    "    for (int start = 0; count < numsSize; start++) {\n",
    "        current = start;\n",
    "        prev = nums[start];\n",
    "        do {\n",
    "            next = (current + k) % numsSize;\n",
    "            temp = nums[next];\n",
    "            nums[next] = prev;\n",
    "            prev = temp;\n",
    "            current = next;\n",
    "            count++;\n",
    "        } while (current != start);\n",
    "    }\n",
    "    \n",
    "    for (int j = 0; j < numsSize; j++) {\n",
    "        printf(\"%d \", nums[j]);\n",
    "    }\n",
    "    printf(\"\\n\");\n",
    "}\n",
    "\n",
    "int main() {\n",
    "    int nums[7] = {1,2,3,4,5,6,7};\n",
    "    int numsSize = sizeof(nums) / sizeof(nums[0]);\n",
    "    int k = 3;\n",
    "    rotate(nums, numsSize, k);\n",
    "    \n",
    "    int nums1[4] = {-1,-100,3,99};\n",
    "    rotate(nums1, 4, 2);\n",
    "    \n",
    "    int nums2[2] = {1, 2};\n",
    "    rotate(nums2, 2, 3);\n",
    "    \n",
    "    int nums3[6] = { 1,2,3,4,5,6 };\n",
    "    rotate(nums3, 6, 2);\n",
    "}"
   ]
  },
  {
   "cell_type": "code",
   "execution_count": null,
   "metadata": {},
   "outputs": [],
   "source": []
  }
 ],
 "metadata": {
  "kernelspec": {
   "display_name": "C",
   "language": "c",
   "name": "c"
  },
  "language_info": {
   "file_extension": ".c",
   "mimetype": "text/plain",
   "name": "c"
  },
  "toc": {
   "base_numbering": 1,
   "nav_menu": {},
   "number_sections": true,
   "sideBar": true,
   "skip_h1_title": false,
   "title_cell": "Table of Contents",
   "title_sidebar": "Contents",
   "toc_cell": false,
   "toc_position": {},
   "toc_section_display": true,
   "toc_window_display": false
  }
 },
 "nbformat": 4,
 "nbformat_minor": 4
}
