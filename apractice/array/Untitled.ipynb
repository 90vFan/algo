{
 "cells": [
  {
   "cell_type": "code",
   "execution_count": 51,
   "metadata": {},
   "outputs": [],
   "source": [
    "from typing import List\n",
    "\n",
    "def singleNumber(nums: List[int]) -> int:\n",
    "    nums_len = len(nums)\n",
    "    if nums_len == 0:\n",
    "        return None\n",
    "    if nums_len == 1:\n",
    "        return nums[0]\n",
    "    \n",
    "    nums = sorted(nums)\n",
    "    i = 0\n",
    "    while i < (len(nums) - 1):\n",
    "        num = nums[i]\n",
    "        if i == 0 and num not in nums[i+1:]:\n",
    "            return num\n",
    "        \n",
    "        if i > 0 and  nums[i] != nums[i+1] and nums[i] != nums[i-1]:\n",
    "            return num\n",
    "        \n",
    "        if i == (len(nums) - 2) and num != nums[i+1]:\n",
    "            return nums[i+1]\n",
    "            \n",
    "        i+=1\n",
    "    \n",
    "    return None"
   ]
  },
  {
   "cell_type": "code",
   "execution_count": 70,
   "metadata": {},
   "outputs": [],
   "source": [
    "def singleNumber(nums: List[int]) -> int:\n",
    "    for i in range(len(nums)):\n",
    "        num = nums[i]\n",
    "        if num not in nums[i+1:] and num not in nums[:i]:\n",
    "            return num"
   ]
  },
  {
   "cell_type": "code",
   "execution_count": 71,
   "metadata": {},
   "outputs": [
    {
     "name": "stdout",
     "output_type": "stream",
     "text": [
      "4\n",
      "1\n",
      "0\n",
      "1\n"
     ]
    }
   ],
   "source": [
    "input1 = [4,1,2,1,2]\n",
    "ret1 = singleNumber(input1)\n",
    "print(ret1)\n",
    "\n",
    "input2 = [2,2,1]\n",
    "ret2 = singleNumber(input2)\n",
    "print(ret2)\n",
    "\n",
    "input2 = [1, 0, 1]\n",
    "ret2 = singleNumber(input2)\n",
    "print(ret2)\n",
    "\n",
    "\n",
    "input2 = [1]\n",
    "ret2 = singleNumber(input2)\n",
    "print(ret2)"
   ]
  }
 ],
 "metadata": {
  "kernelspec": {
   "display_name": "Python 3",
   "language": "python",
   "name": "python3"
  },
  "language_info": {
   "codemirror_mode": {
    "name": "ipython",
    "version": 3
   },
   "file_extension": ".py",
   "mimetype": "text/x-python",
   "name": "python",
   "nbconvert_exporter": "python",
   "pygments_lexer": "ipython3",
   "version": "3.6.8"
  }
 },
 "nbformat": 4,
 "nbformat_minor": 4
}
