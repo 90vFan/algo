{
 "cells": [
  {
   "cell_type": "code",
   "execution_count": 33,
   "metadata": {},
   "outputs": [
    {
     "ename": "UnresolvedReferenceException",
     "evalue": "Attempt to use definition snippet with unresolved references in MethodSnippet:test/()void-\n\nvoid test() {\n    int inputs[] = {1,2,3,1};\n    boolean output = containsDuplicate(inputs);\n    System.out.printf(\"result: %b\\n\", output);\n    //assert output == true;\n    \n    int inputs2[] = {1,2,3,4};\n    boolean output2 = containsDuplicate(inputs2);\n    System.out.printf(\"result: %b\\n\", output2);\n//     assert output2 == false;\n    \n    int inputs3[] = {1,1,1,3,3,4,3,2,4,2};\n    boolean output3 = containsDuplicate(inputs3, 10);\n    System.out.printf(\"result: %b\\n\", output3);\n//     assert output3 == true;\n    \n    int inputs4[] = {0};\n    boolean output4 = containsDuplicate(inputs4, 0);\n    System.out.printf(\"result: %b\\n\", output4);\n//     assert output4 == false;\n}",
     "output_type": "error",
     "traceback": []
    }
   ],
   "source": [
    "/* 时间复杂度：O(nlogn)  空间复杂度：O(1)*/\n",
    "public boolean containsDuplicate(int[] nums) {\n",
    "    Arrays.sort(nums);\n",
    "    for (int i = 0; i < nums.length - 1; i++) {\n",
    "        System.out.println(i);\n",
    "        if (nums[i] == nums[i+1]) return true;\n",
    "    }\n",
    "    return false;\n",
    "}"
   ]
  },
  {
   "cell_type": "code",
   "execution_count": 3,
   "metadata": {},
   "outputs": [],
   "source": [
    "/* search() and insert() 时间复杂度：O(n) 空间复杂度 O(n) */\n",
    "public boolean containsDuplicate(int[] nums) {\n",
    "    Set <Integer> set = new HashSet<>(nums.length);\n",
    "    for (int x: nums) {\n",
    "        if (set.contains(x)) return true;\n",
    "        set.add(x);\n",
    "    }\n",
    "    return false;\n",
    "}"
   ]
  },
  {
   "cell_type": "code",
   "execution_count": 6,
   "metadata": {},
   "outputs": [
    {
     "name": "stdout",
     "output_type": "stream",
     "text": [
      "result: true\n",
      "result: false\n",
      "result: true\n",
      "result: false\n"
     ]
    }
   ],
   "source": [
    "void test() {\n",
    "    int inputs[] = {1,2,3,1};\n",
    "    boolean output = containsDuplicate(inputs);\n",
    "    System.out.printf(\"result: %b\\n\", output);\n",
    "    assert output == true;\n",
    "    \n",
    "    int inputs2[] = {1,2,3,4};\n",
    "    boolean output2 = containsDuplicate(inputs2);\n",
    "    System.out.printf(\"result: %b\\n\", output2);\n",
    "    assert output2 == false;\n",
    "    \n",
    "    int inputs3[] = {1,1,1,3,3,4,3,2,4,2};\n",
    "    boolean output3 = containsDuplicate(inputs3);\n",
    "    System.out.printf(\"result: %b\\n\", output3);\n",
    "    assert output == true;\n",
    "    \n",
    "    int inputs4[] = {0};\n",
    "    boolean output4 = containsDuplicate(inputs4);\n",
    "    System.out.printf(\"result: %b\\n\", output4);\n",
    "    assert output == false;\n",
    "}\n",
    "test();"
   ]
  },
  {
   "cell_type": "code",
   "execution_count": 5,
   "metadata": {},
   "outputs": [
    {
     "name": "stdout",
     "output_type": "stream",
     "text": [
      "result: true\n",
      "result: false\n",
      "result: true\n",
      "result: false\n"
     ]
    }
   ],
   "source": []
  },
  {
   "cell_type": "code",
   "execution_count": 29,
   "metadata": {},
   "outputs": [
    {
     "ename": "UnresolvedReferenceException",
     "evalue": "Attempt to use definition snippet with unresolved references in MethodSnippet:test/()void-void test() {\n    int inputs[] = {1,2,3,1};\n    boolean output = containsDuplicate(inputs);\n    System.out.printf(\"result: %b\\n\", output);\n    assert output == true;\n    \n    int inputs2[] = {1,2,3,4};\n    boolean output2 = containsDuplicate(inputs2);\n    System.out.printf(\"result: %b\\n\", output2);\n    assert output2 == false;\n    \n    int inputs3[] = {1,1,1,3,3,4,3,2,4,2};\n    boolean output3 = containsDuplicate(inputs3, 10);\n    System.out.printf(\"result: %b\\n\", output3);\n    assert output3 == true;\n    \n    int inputs4[] = {0};\n    boolean output4 = containsDuplicate(inputs4, 0);\n    System.out.printf(\"result: %b\\n\", output4);\n    assert output4 == false;\n}\n",
     "output_type": "error",
     "traceback": []
    }
   ],
   "source": []
  }
 ],
 "metadata": {
  "kernelspec": {
   "display_name": "Java",
   "language": "java",
   "name": "java"
  },
  "language_info": {
   "codemirror_mode": "java",
   "file_extension": ".java",
   "mimetype": "text/x-java-source",
   "name": "Java",
   "pygments_lexer": "java",
   "version": "12.0.1+12"
  },
  "latex_envs": {
   "LaTeX_envs_menu_present": true,
   "autoclose": false,
   "autocomplete": true,
   "bibliofile": "biblio.bib",
   "cite_by": "apalike",
   "current_citInitial": 1,
   "eqLabelWithNumbers": true,
   "eqNumInitial": 1,
   "hotkeys": {
    "equation": "Ctrl-E",
    "itemize": "Ctrl-I"
   },
   "labels_anchors": false,
   "latex_user_defs": false,
   "report_style_numbering": false,
   "user_envs_cfg": false
  },
  "toc": {
   "base_numbering": 1,
   "nav_menu": {},
   "number_sections": true,
   "sideBar": true,
   "skip_h1_title": false,
   "title_cell": "Table of Contents",
   "title_sidebar": "Contents",
   "toc_cell": false,
   "toc_position": {},
   "toc_section_display": true,
   "toc_window_display": false
  }
 },
 "nbformat": 4,
 "nbformat_minor": 2
}
